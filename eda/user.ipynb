{
 "cells": [
  {
   "cell_type": "code",
   "execution_count": 1,
   "source": [
    "import numpy as np\n",
    "import pandas as pd\n",
    "import matplotlib.pyplot as plt\n",
    "\n",
    "%matplotlib inline"
   ],
   "outputs": [],
   "metadata": {}
  },
  {
   "cell_type": "markdown",
   "source": [
    "## Loading datasets\n",
    "Note that the seperator of these `csv` files are `\\t` instead of `,` used in common."
   ],
   "metadata": {}
  },
  {
   "cell_type": "code",
   "execution_count": 2,
   "source": [
    "user_dtype = dict(\n",
    "    age='category',\n",
    "    gender='category',\n",
    "    country='category',\n",
    "    province='category',\n",
    "    city='category',\n",
    "    city_level='category',\n",
    "    device_name='category'\n",
    ")\n",
    "\n",
    "user_file  = '../datasets/raw/traindata/user_features_data.csv'\n",
    "df = pd.read_csv(user_file, sep='\\t', index_col='user_id', dtype=user_dtype)"
   ],
   "outputs": [
    {
     "output_type": "stream",
     "name": "stderr",
     "text": [
      "/home/wupj/miniconda3/envs/pytorch17/lib/python3.7/site-packages/numpy/lib/arraysetops.py:580: FutureWarning: elementwise comparison failed; returning scalar instead, but in the future will perform elementwise comparison\n",
      "  mask |= (ar1 == a)\n"
     ]
    }
   ],
   "metadata": {}
  },
  {
   "cell_type": "markdown",
   "source": [
    "## View & Quality\n",
    "### view\n",
    "Head view of *user* dataset, which entirely consists of discrete numbers. There are `5910800` users' record in the dataset.\n",
    "\n",
    "The *user* dataset consists entirely of numbers, it's good."
   ],
   "metadata": {}
  },
  {
   "cell_type": "code",
   "execution_count": 3,
   "source": [
    "df.head()"
   ],
   "outputs": [
    {
     "output_type": "execute_result",
     "data": {
      "text/plain": [
       "        age gender country province city city_level device_name\n",
       "user_id                                                        \n",
       "1757005   3      1       0        9    6          3         327\n",
       "17938     0      0       0        4   22          3         327\n",
       "4263520   1      0       0       19    1          5         327\n",
       "1411600   3      0       0        5  138          1         327\n",
       "3992242   2      0       0        0  142          0         327"
      ],
      "text/html": [
       "<div>\n",
       "<style scoped>\n",
       "    .dataframe tbody tr th:only-of-type {\n",
       "        vertical-align: middle;\n",
       "    }\n",
       "\n",
       "    .dataframe tbody tr th {\n",
       "        vertical-align: top;\n",
       "    }\n",
       "\n",
       "    .dataframe thead th {\n",
       "        text-align: right;\n",
       "    }\n",
       "</style>\n",
       "<table border=\"1\" class=\"dataframe\">\n",
       "  <thead>\n",
       "    <tr style=\"text-align: right;\">\n",
       "      <th></th>\n",
       "      <th>age</th>\n",
       "      <th>gender</th>\n",
       "      <th>country</th>\n",
       "      <th>province</th>\n",
       "      <th>city</th>\n",
       "      <th>city_level</th>\n",
       "      <th>device_name</th>\n",
       "    </tr>\n",
       "    <tr>\n",
       "      <th>user_id</th>\n",
       "      <th></th>\n",
       "      <th></th>\n",
       "      <th></th>\n",
       "      <th></th>\n",
       "      <th></th>\n",
       "      <th></th>\n",
       "      <th></th>\n",
       "    </tr>\n",
       "  </thead>\n",
       "  <tbody>\n",
       "    <tr>\n",
       "      <th>1757005</th>\n",
       "      <td>3</td>\n",
       "      <td>1</td>\n",
       "      <td>0</td>\n",
       "      <td>9</td>\n",
       "      <td>6</td>\n",
       "      <td>3</td>\n",
       "      <td>327</td>\n",
       "    </tr>\n",
       "    <tr>\n",
       "      <th>17938</th>\n",
       "      <td>0</td>\n",
       "      <td>0</td>\n",
       "      <td>0</td>\n",
       "      <td>4</td>\n",
       "      <td>22</td>\n",
       "      <td>3</td>\n",
       "      <td>327</td>\n",
       "    </tr>\n",
       "    <tr>\n",
       "      <th>4263520</th>\n",
       "      <td>1</td>\n",
       "      <td>0</td>\n",
       "      <td>0</td>\n",
       "      <td>19</td>\n",
       "      <td>1</td>\n",
       "      <td>5</td>\n",
       "      <td>327</td>\n",
       "    </tr>\n",
       "    <tr>\n",
       "      <th>1411600</th>\n",
       "      <td>3</td>\n",
       "      <td>0</td>\n",
       "      <td>0</td>\n",
       "      <td>5</td>\n",
       "      <td>138</td>\n",
       "      <td>1</td>\n",
       "      <td>327</td>\n",
       "    </tr>\n",
       "    <tr>\n",
       "      <th>3992242</th>\n",
       "      <td>2</td>\n",
       "      <td>0</td>\n",
       "      <td>0</td>\n",
       "      <td>0</td>\n",
       "      <td>142</td>\n",
       "      <td>0</td>\n",
       "      <td>327</td>\n",
       "    </tr>\n",
       "  </tbody>\n",
       "</table>\n",
       "</div>"
      ]
     },
     "metadata": {},
     "execution_count": 3
    }
   ],
   "metadata": {}
  },
  {
   "cell_type": "code",
   "execution_count": 4,
   "source": [
    "df.describe()"
   ],
   "outputs": [
    {
     "output_type": "execute_result",
     "data": {
      "text/plain": [
       "            age   gender  country province     city city_level device_name\n",
       "count   5910800  5910800  5910800  5910800  5910800    5910800     5910800\n",
       "unique        8        4        3       33      339          8        1826\n",
       "top           0        0        0        0        0          0           0\n",
       "freq    1517588  4291944  5905701   630065   129843    1376384      161778"
      ],
      "text/html": [
       "<div>\n",
       "<style scoped>\n",
       "    .dataframe tbody tr th:only-of-type {\n",
       "        vertical-align: middle;\n",
       "    }\n",
       "\n",
       "    .dataframe tbody tr th {\n",
       "        vertical-align: top;\n",
       "    }\n",
       "\n",
       "    .dataframe thead th {\n",
       "        text-align: right;\n",
       "    }\n",
       "</style>\n",
       "<table border=\"1\" class=\"dataframe\">\n",
       "  <thead>\n",
       "    <tr style=\"text-align: right;\">\n",
       "      <th></th>\n",
       "      <th>age</th>\n",
       "      <th>gender</th>\n",
       "      <th>country</th>\n",
       "      <th>province</th>\n",
       "      <th>city</th>\n",
       "      <th>city_level</th>\n",
       "      <th>device_name</th>\n",
       "    </tr>\n",
       "  </thead>\n",
       "  <tbody>\n",
       "    <tr>\n",
       "      <th>count</th>\n",
       "      <td>5910800</td>\n",
       "      <td>5910800</td>\n",
       "      <td>5910800</td>\n",
       "      <td>5910800</td>\n",
       "      <td>5910800</td>\n",
       "      <td>5910800</td>\n",
       "      <td>5910800</td>\n",
       "    </tr>\n",
       "    <tr>\n",
       "      <th>unique</th>\n",
       "      <td>8</td>\n",
       "      <td>4</td>\n",
       "      <td>3</td>\n",
       "      <td>33</td>\n",
       "      <td>339</td>\n",
       "      <td>8</td>\n",
       "      <td>1826</td>\n",
       "    </tr>\n",
       "    <tr>\n",
       "      <th>top</th>\n",
       "      <td>0</td>\n",
       "      <td>0</td>\n",
       "      <td>0</td>\n",
       "      <td>0</td>\n",
       "      <td>0</td>\n",
       "      <td>0</td>\n",
       "      <td>0</td>\n",
       "    </tr>\n",
       "    <tr>\n",
       "      <th>freq</th>\n",
       "      <td>1517588</td>\n",
       "      <td>4291944</td>\n",
       "      <td>5905701</td>\n",
       "      <td>630065</td>\n",
       "      <td>129843</td>\n",
       "      <td>1376384</td>\n",
       "      <td>161778</td>\n",
       "    </tr>\n",
       "  </tbody>\n",
       "</table>\n",
       "</div>"
      ]
     },
     "metadata": {},
     "execution_count": 4
    }
   ],
   "metadata": {}
  },
  {
   "cell_type": "markdown",
   "source": [
    "### Quality\n",
    "- [x] No duplicte record.\n",
    "- [x] No `nan` record."
   ],
   "metadata": {}
  },
  {
   "cell_type": "code",
   "execution_count": 5,
   "source": [
    "# check duplicte\n",
    "print(f'duplicate num: {df.index.nunique() - df.shape[0]}')\n",
    "# check nan\n",
    "print('nan numbers:')\n",
    "pd.DataFrame(df.isnull().sum()).T"
   ],
   "outputs": [
    {
     "output_type": "stream",
     "name": "stdout",
     "text": [
      "duplicate num: 0\n",
      "nan numbers:\n"
     ]
    },
    {
     "output_type": "execute_result",
     "data": {
      "text/plain": [
       "   age  gender  country  province  city  city_level  device_name\n",
       "0    0       0        0         0     0           0            0"
      ],
      "text/html": [
       "<div>\n",
       "<style scoped>\n",
       "    .dataframe tbody tr th:only-of-type {\n",
       "        vertical-align: middle;\n",
       "    }\n",
       "\n",
       "    .dataframe tbody tr th {\n",
       "        vertical-align: top;\n",
       "    }\n",
       "\n",
       "    .dataframe thead th {\n",
       "        text-align: right;\n",
       "    }\n",
       "</style>\n",
       "<table border=\"1\" class=\"dataframe\">\n",
       "  <thead>\n",
       "    <tr style=\"text-align: right;\">\n",
       "      <th></th>\n",
       "      <th>age</th>\n",
       "      <th>gender</th>\n",
       "      <th>country</th>\n",
       "      <th>province</th>\n",
       "      <th>city</th>\n",
       "      <th>city_level</th>\n",
       "      <th>device_name</th>\n",
       "    </tr>\n",
       "  </thead>\n",
       "  <tbody>\n",
       "    <tr>\n",
       "      <th>0</th>\n",
       "      <td>0</td>\n",
       "      <td>0</td>\n",
       "      <td>0</td>\n",
       "      <td>0</td>\n",
       "      <td>0</td>\n",
       "      <td>0</td>\n",
       "      <td>0</td>\n",
       "    </tr>\n",
       "  </tbody>\n",
       "</table>\n",
       "</div>"
      ]
     },
     "metadata": {},
     "execution_count": 5
    }
   ],
   "metadata": {}
  },
  {
   "cell_type": "markdown",
   "source": [
    "## Statistics\n",
    "* mean\n",
    "* variance\n",
    "* information entropy\n",
    "\n",
    "Based on the following analysis (mostly according to information entropy), we select `age`, `gender`, `province` (weak suggested), `city_level`, `device_name` (weak suggested), as user's features."
   ],
   "metadata": {}
  },
  {
   "cell_type": "code",
   "execution_count": 6,
   "source": [
    "def info_entropy(count):\n",
    "    n = count.sum()\n",
    "    prob = count.values / n\n",
    "    return np.sum(prob * -np.log(prob))"
   ],
   "outputs": [],
   "metadata": {}
  },
  {
   "cell_type": "code",
   "execution_count": 7,
   "source": [
    "stats = dict(mean=[], std=[], entropy=[])\n",
    "for col in df.columns:\n",
    "    count = df[col].value_counts()\n",
    "    stats['mean'].append(count.mean())\n",
    "    stats['std'].append(count.std())\n",
    "    stats['entropy'].append(info_entropy(count))\n",
    "pd.DataFrame(stats, index=df.columns).T"
   ],
   "outputs": [
    {
     "output_type": "execute_result",
     "data": {
      "text/plain": [
       "                   age        gender       country       province  \\\n",
       "mean     738850.000000  1.477700e+06  1.970267e+06  179115.151515   \n",
       "std      574696.049121  2.009354e+06  3.408187e+06  141474.866236   \n",
       "entropy       1.730780  6.346577e-01  7.048076e-03       3.211624   \n",
       "\n",
       "                 city     city_level   device_name  \n",
       "mean     17435.988201  738850.000000   3237.020811  \n",
       "std      19656.264777  508477.443767  11621.459303  \n",
       "entropy      5.391849       1.796097      5.271148  "
      ],
      "text/html": [
       "<div>\n",
       "<style scoped>\n",
       "    .dataframe tbody tr th:only-of-type {\n",
       "        vertical-align: middle;\n",
       "    }\n",
       "\n",
       "    .dataframe tbody tr th {\n",
       "        vertical-align: top;\n",
       "    }\n",
       "\n",
       "    .dataframe thead th {\n",
       "        text-align: right;\n",
       "    }\n",
       "</style>\n",
       "<table border=\"1\" class=\"dataframe\">\n",
       "  <thead>\n",
       "    <tr style=\"text-align: right;\">\n",
       "      <th></th>\n",
       "      <th>age</th>\n",
       "      <th>gender</th>\n",
       "      <th>country</th>\n",
       "      <th>province</th>\n",
       "      <th>city</th>\n",
       "      <th>city_level</th>\n",
       "      <th>device_name</th>\n",
       "    </tr>\n",
       "  </thead>\n",
       "  <tbody>\n",
       "    <tr>\n",
       "      <th>mean</th>\n",
       "      <td>738850.000000</td>\n",
       "      <td>1.477700e+06</td>\n",
       "      <td>1.970267e+06</td>\n",
       "      <td>179115.151515</td>\n",
       "      <td>17435.988201</td>\n",
       "      <td>738850.000000</td>\n",
       "      <td>3237.020811</td>\n",
       "    </tr>\n",
       "    <tr>\n",
       "      <th>std</th>\n",
       "      <td>574696.049121</td>\n",
       "      <td>2.009354e+06</td>\n",
       "      <td>3.408187e+06</td>\n",
       "      <td>141474.866236</td>\n",
       "      <td>19656.264777</td>\n",
       "      <td>508477.443767</td>\n",
       "      <td>11621.459303</td>\n",
       "    </tr>\n",
       "    <tr>\n",
       "      <th>entropy</th>\n",
       "      <td>1.730780</td>\n",
       "      <td>6.346577e-01</td>\n",
       "      <td>7.048076e-03</td>\n",
       "      <td>3.211624</td>\n",
       "      <td>5.391849</td>\n",
       "      <td>1.796097</td>\n",
       "      <td>5.271148</td>\n",
       "    </tr>\n",
       "  </tbody>\n",
       "</table>\n",
       "</div>"
      ]
     },
     "metadata": {},
     "execution_count": 7
    }
   ],
   "metadata": {}
  },
  {
   "cell_type": "markdown",
   "source": [
    "### Device name\n",
    "According to the analysis results, the devices with counts below **3000** (or device label greater than **250**) should be integrated into one label."
   ],
   "metadata": {}
  },
  {
   "cell_type": "code",
   "execution_count": 8,
   "source": [
    "count = df.device_name.value_counts()\n",
    "print(f'number mean: {count.mean()}')\n",
    "print(f'number std: {count.std()}')\n",
    "print(f'info entropy: {info_entropy(count)}')\n",
    "fig, ax1 = plt.subplots(1,1)\n",
    "ax2 = ax1.twinx()\n",
    "ax1.grid()\n",
    "ax1.plot(count.values, c='C0', label='count')\n",
    "ax2.plot(count.cumsum().values, c='C1', label='cumsum')\n",
    "ax1.set_yscale('log')\n",
    "ax1.set_xlabel('Device')\n",
    "ax1.set_ylabel('Count')\n",
    "ax2.set_ylabel('Cumsum')\n",
    "fig.legend(loc=1, bbox_to_anchor=(1, 1), bbox_transform=ax1.transAxes)\n",
    "fig.show()"
   ],
   "outputs": [
    {
     "output_type": "stream",
     "name": "stdout",
     "text": [
      "number mean: 3237.0208105147863\n",
      "number std: 11621.459303297364\n",
      "info entropy: 5.271148343003711\n"
     ]
    },
    {
     "output_type": "display_data",
     "data": {
      "text/plain": [
       "<Figure size 432x288 with 2 Axes>"
      ],
      "image/png": "[encoded data removed]"
     },
     "metadata": {
      "needs_background": "light"
     }
    }
   ],
   "metadata": {}
  },
  {
   "cell_type": "markdown",
   "source": [
    "Since there is a significant unbalance in the number of devices, we should keep first $k$ devices and integrate last devices into one label. We discuss $k$ by the infomation entropy of device feature."
   ],
   "metadata": {}
  },
  {
   "cell_type": "code",
   "execution_count": 9,
   "source": [
    "keeps = np.arange(50, 400, 50)\n",
    "entropy = list()\n",
    "for k in keeps:\n",
    "    top_k = df.device_name.value_counts().iloc[:k]\n",
    "    top_k = top_k.append(pd.Series(df.shape[0] - top_k.sum(), index=[k]))\n",
    "    entropy.append(info_entropy(top_k))\n",
    "fig, ax = plt.subplots(1,1)\n",
    "ax.grid()\n",
    "ax.plot(keeps, entropy)\n",
    "ax.set_xlabel('Keep top-$k$')\n",
    "ax.set_ylabel('Infomation entropy')\n",
    "fig.show()"
   ],
   "outputs": [
    {
     "output_type": "display_data",
     "data": {
      "text/plain": [
       "<Figure size 432x288 with 1 Axes>"
      ],
      "image/png": "[encoded data removed]"
     },
     "metadata": {
      "needs_background": "light"
     }
    }
   ],
   "metadata": {}
  }
 ],
 "metadata": {
  "orig_nbformat": 4,
  "language_info": {
   "name": "python",
   "version": "3.7.10",
   "mimetype": "text/x-python",
   "codemirror_mode": {
    "name": "ipython",
    "version": 3
   },
   "pygments_lexer": "ipython3",
   "nbconvert_exporter": "python",
   "file_extension": ".py"
  },
  "kernelspec": {
   "name": "python3",
   "display_name": "Python 3.7.10 64-bit ('pytorch17': conda)"
  },
  "interpreter": {
   "hash": "e7a07bc5694825fd347e1546deaf40011a47297282d2d7bed5a67d8bf30c9ad8"
  }
 },
 "nbformat": 4,
 "nbformat_minor": 2
}